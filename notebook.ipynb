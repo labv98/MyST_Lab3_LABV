{
 "cells": [
  {
   "cell_type": "markdown",
   "metadata": {},
   "source": [
    "<center> <img src=\"http://oci02.img.iteso.mx/identidad_de_instancia_2018/ITESO/Logos%20ITESO/Logo-ITESO-Principal.jpg\" align=\"center\" width=\"960\" height=\"480\"/> </center>"
   ]
  },
  {
   "cell_type": "markdown",
   "metadata": {},
   "source": [
    "<center><font color=#555555><font size=6> MAF1731 - Microstructure and Trading Systems </font> <br> <br>\n",
    "    \n",
    "<center><font color=#555555><font size=5> B.Eng Financial Engineering </font> <br> <br> <br> <br>\n",
    "\n",
    "<center><font color='navy'><font size=6> I.F. Barragán Vázquez Lizbeth Alejandra </font> <br> <br>\n",
    "   \n",
    "<center> <font color= #555555> <font size = 4> October 25th 2021 </a> | <font color= #555555> <font size = 4> Repository: <a href='https://github.com/labv98/MyST_Lab3_LABV.git'>Link</a></font>"
   ]
  },
  {
   "cell_type": "markdown",
   "metadata": {},
   "source": [
    "<hr style=\"border:0.02in solid gray\"> </hr>"
   ]
  },
  {
   "cell_type": "markdown",
   "metadata": {},
   "source": [
    "<center> <font color= #555555> <font size = 6> Laboratory 3 </font> <br> <br> <font color= #555555> <font size = 5> Metatrader & Financial analysis of trading  </font>"
   ]
  },
  {
   "cell_type": "markdown",
   "metadata": {},
   "source": [
    "<hr style=\"border:0.02in solid gray\"> </hr>"
   ]
  },
  {
   "cell_type": "markdown",
   "metadata": {},
   "source": [
    "<br>"
   ]
  },
  {
   "cell_type": "markdown",
   "metadata": {},
   "source": [
    "<font color= 'navy'> <font size = 4> Abstract </font>"
   ]
  },
  {
   "cell_type": "markdown",
   "metadata": {},
   "source": [
    "<font size = 3>  En el presente notebook se encuentra el trabajo realizado en base a los archivos que provienen de la aplicación de trading *Metratader 5* esto con la intención de realizar un profundo análisis que nos lleve al detalle financiero que nos ofrece el haber realizado inversiones específicas en cierto periodo de tiempo. De esta manera podremos analizar los cambios que presentaron nuestras finanzas en el periodo y asimismo se puede observar los sesgos cognitivos que como inversionista se pueden llegar a tener. Esto último se analiza en la tercera parte del laboratorio que lleva por nombre **Behavioral Finance** siendo una de las áreas más significativas de este laboratorio. </font>"
   ]
  },
  {
   "cell_type": "markdown",
   "metadata": {},
   "source": [
    "<br>"
   ]
  },
  {
   "cell_type": "markdown",
   "metadata": {},
   "source": [
    "# <font color= 'navy'> <font size = 6> 1. Introduction </font>"
   ]
  },
  {
   "cell_type": "markdown",
   "metadata": {},
   "source": [
    "<hr style=\"border:0.02in solid gray\"> </hr>"
   ]
  },
  {
   "cell_type": "markdown",
   "metadata": {},
   "source": [
    "En este laboratorio se muestra un análisis importante en base a una serie de inversiones creadas con la aplicación Metatrader 5 que es una es una plataforma de comercio electrónico ampliamente utilizada por los comerciantes especulativos de divisas minoristas en línea. \n",
    "\n",
    "El software consta de un componente de cliente y de servidor. El componente del servidor lo ejecuta el corredor y el software del cliente se proporciona a los clientes del corredor, que lo utilizan para ver los precios y gráficos de transmisión en vivo, para realizar pedidos y para administrar sus cuentas.\n",
    "\n",
    "Con esta interfaz, el usuario hace una serie de inversiones y el objetivo del laboratorio es poder leer dicho reporte propio de la plataforma para posteriormente crear tablas de estadística descriptiva que modelen la información que se presenta de una manera más simple y digerible para el usuario a lo largo del periodo en el que se estuvo interviniendo en las inversiones.\n",
    "\n",
    "Posteriormente se presentan las Medidas de Atribución al Desempeño que estarán marcadas por el Radio de Sharpe, Drawdown y Drawup mismos que se definirán más adelante. \n",
    "\n",
    "En la tercera parte encontraremos el llamado Behavioral Finance que muestra los cálculos sobre la presencia y cuantificación del sesgo cognitivo \"Disposition Effect\".\n",
    "\n",
    "Como cuarta y última parte se mostrarán las visualizaciones de las partes anteriores que nos ayuden a ver de una manera más práctica la información que sea necesaria.\n",
    "\n",
    "Terminando con una serie de conclusiones acerca de lo que el laboratorio trató."
   ]
  },
  {
   "cell_type": "markdown",
   "metadata": {},
   "source": [
    "<br>"
   ]
  },
  {
   "cell_type": "markdown",
   "metadata": {},
   "source": [
    "# <font color= 'navy'> 2. Install/Load Packages and Depedencies </font>"
   ]
  },
  {
   "cell_type": "markdown",
   "metadata": {},
   "source": [
    "<hr style=\"border:0.02in solid gray\"> </hr>"
   ]
  },
  {
   "cell_type": "code",
   "execution_count": null,
   "metadata": {},
   "outputs": [],
   "source": [
    "import numpy as np\n",
    "import pandas as pd\n",
    "import MetaTrader5 as mt5\n",
    "from datetime import datetime"
   ]
  },
  {
   "cell_type": "markdown",
   "metadata": {},
   "source": [
    "## <font color= 'navy'> 2.2 Python Packages </font> <font color= #555555>"
   ]
  },
  {
   "cell_type": "markdown",
   "metadata": {},
   "source": [
    "Para pode correr el presente notebook, será necesario haber instalado o ya tener el archivo _requirements.txt_ que presenta lo siguiente:"
   ]
  },
  {
   "cell_type": "markdown",
   "metadata": {},
   "source": [
    "- pandas>=1.1.1 \n",
    "- numpy>=1.19.1\n",
    "- jupyter>=1.0.0\n",
    "- chart_studio>=1.1\n",
    "- plotly>=4.14\n",
    "- yahoofinance"
   ]
  },
  {
   "cell_type": "markdown",
   "metadata": {},
   "source": [
    "## <font color= 'navy'> 2.3 Files Dependencies </font> <font color= #555555>"
   ]
  },
  {
   "cell_type": "markdown",
   "metadata": {},
   "source": [
    "Las dependencias necesarias para poder correr el notebook son:"
   ]
  },
  {
   "cell_type": "markdown",
   "metadata": {},
   "source": [
    "- files/Reporte de excel.xlsx : Reporte de histórico en excel proveniente de Metatrader 5.\n",
    "- functions.py\n",
    "- visualizations.py"
   ]
  },
  {
   "cell_type": "code",
   "execution_count": 2,
   "metadata": {},
   "outputs": [
    {
     "ename": "ModuleNotFoundError",
     "evalue": "No module named 'MetaTrader5'",
     "output_type": "error",
     "traceback": [
      "\u001b[0;31m---------------------------------------------------------------------------\u001b[0m",
      "\u001b[0;31mModuleNotFoundError\u001b[0m                       Traceback (most recent call last)",
      "\u001b[0;32m/var/folders/h7/rrt2rn690b95jhvqg410dr6m0000gn/T/ipykernel_4165/1726714391.py\u001b[0m in \u001b[0;36m<module>\u001b[0;34m\u001b[0m\n\u001b[0;32m----> 1\u001b[0;31m \u001b[0;32mfrom\u001b[0m \u001b[0mfunctions\u001b[0m \u001b[0;32mimport\u001b[0m \u001b[0;34m*\u001b[0m\u001b[0;34m\u001b[0m\u001b[0;34m\u001b[0m\u001b[0m\n\u001b[0m",
      "\u001b[0;32m~/Downloads/MyST/MyST_Lab3_LABV/functions.py\u001b[0m in \u001b[0;36m<module>\u001b[0;34m\u001b[0m\n\u001b[1;32m     13\u001b[0m \u001b[0;32mimport\u001b[0m \u001b[0mnumpy\u001b[0m \u001b[0;32mas\u001b[0m \u001b[0mnp\u001b[0m\u001b[0;34m\u001b[0m\u001b[0;34m\u001b[0m\u001b[0m\n\u001b[1;32m     14\u001b[0m \u001b[0;32mimport\u001b[0m \u001b[0mpandas\u001b[0m \u001b[0;32mas\u001b[0m \u001b[0mpd\u001b[0m\u001b[0;34m\u001b[0m\u001b[0;34m\u001b[0m\u001b[0m\n\u001b[0;32m---> 15\u001b[0;31m \u001b[0;32mimport\u001b[0m \u001b[0mMetaTrader5\u001b[0m \u001b[0;32mas\u001b[0m \u001b[0mmt5\u001b[0m\u001b[0;34m\u001b[0m\u001b[0;34m\u001b[0m\u001b[0m\n\u001b[0m\u001b[1;32m     16\u001b[0m \u001b[0;32mfrom\u001b[0m \u001b[0mdatetime\u001b[0m \u001b[0;32mimport\u001b[0m \u001b[0mdatetime\u001b[0m\u001b[0;34m\u001b[0m\u001b[0;34m\u001b[0m\u001b[0m\n\u001b[1;32m     17\u001b[0m \u001b[0;32mimport\u001b[0m \u001b[0myfinance\u001b[0m \u001b[0;32mas\u001b[0m \u001b[0myf\u001b[0m\u001b[0;34m\u001b[0m\u001b[0;34m\u001b[0m\u001b[0m\n",
      "\u001b[0;31mModuleNotFoundError\u001b[0m: No module named 'MetaTrader5'"
     ]
    }
   ],
   "source": [
    "from functions import *"
   ]
  },
  {
   "cell_type": "markdown",
   "metadata": {},
   "source": [
    "<br>"
   ]
  },
  {
   "cell_type": "markdown",
   "metadata": {},
   "source": [
    "# <font color= 'navy'> 3. Estadística descriptiva </font>"
   ]
  },
  {
   "cell_type": "markdown",
   "metadata": {},
   "source": [
    "<hr style=\"border:0.02in solid gray\"> </hr>"
   ]
  },
  {
   "cell_type": "markdown",
   "metadata": {},
   "source": [
    "En este apartado se mostrará una serie de funciones para preparar el procesamiento de los datos, así como una tabla de cálculos genéricos y una tabla de ranking.\n",
    "\n",
    "La finalidad de ello es poder hacer la lectura de los datos que nos proporciona el Metatrader 5 para poder analizar de una manera asertiva lo subsecuente. Una vez que esto se realiza, se muestran las estadísticas básicas y el ranking de las operaciones realizadas en base del total de las mismas.\n",
    "\n",
    "Dentro de lo que se muestra más relevante, tenemos:\n",
    "\n",
    "- Los valores en pips de las operaciones: Hay que tener en cuenta que el término *pip* significa punto porcentual. Es un movimiento de precio incremental, con un valor específico que depende del mercado en cuestión. En pocas palabras, es una unidad estándar para medir cuánto ha cambiado la cotización de un activo. Razón por la cual se añaden estas columnas con la finalidad de observar la columna de pérdida o ganancia de la operación expresada en este término financiero. También está 'pips_acm' que son los pips acumulados operación por operación (la suma acumulativa de la columna pips), y finalmente se tiene 'profit_acm', que es el profit en capital, que acumula la cuenta.\n",
    "\n",
    "\n",
    "- \"df_1_tabla\": Que contiene las operaciones totales, las operaciones ganadoras, las ganadoras de compra, ganadoras de venta, perdedoras, perdedoras de compra, perdedoras de venta, la mediana de profit en operaciones, mediana de pips en operaciones, r_efectividad que muestra las ganadoras totales/operaciones totales, r_efectividad_c que muestra las ganadoras de compra/operaciones totales y r_efectividad_v que muestra ganadoras de venta/operaciones totales.\n",
    "\n",
    "\n",
    "- \"df_2_ranking\": Muestra el ratio de efectividad de las operaciones realizadas con cada instrumento operado, esto en porcentaje por cada operación realizada."
   ]
  },
  {
   "cell_type": "code",
   "execution_count": null,
   "metadata": {},
   "outputs": [],
   "source": []
  },
  {
   "cell_type": "markdown",
   "metadata": {},
   "source": [
    "<br>"
   ]
  },
  {
   "cell_type": "markdown",
   "metadata": {},
   "source": [
    "# <font color= 'navy'> 4. Métricas de Atribución al Desempeño  </font>"
   ]
  },
  {
   "cell_type": "markdown",
   "metadata": {},
   "source": [
    "<hr style=\"border:0.02in solid gray\"> </hr>"
   ]
  },
  {
   "cell_type": "markdown",
   "metadata": {},
   "source": [
    "En este apartado se mostrará un DataFrame que incluye diversos valores, mismos que darán pauta del modo en que se invirtió el capital que se tenía en un inicio y con ello cuáles fueron los cambios presentados.\n",
    "\n",
    "La primera de ellas, es la tabla que proviene de la función *f_evolucion_capital* a esta función se le ingresa el histórico de posiciones y su salida contiene tres columnas.\n",
    "\n",
    "    1. \"Timestamp\": Contiene las fechas día a día durante el priodo se hizo trading, exceptuando los sábados.\n",
    "    \n",
    "    2. \"Profit_d\": Profit por día de todos los contenidos en el periodo que se hizo trading en ocasiones puede ser 0 o en ocasiones la suma de todos los profits al tener más de una operación.\n",
    "    \n",
    "    3. \"Profit_acm_d\": Profit acumulado diario de tu cuenta de capital.  Se encuentra expresado en capital ($), y contiene el valor inicial de la cuenta por lo que se podría decir que es el valor total del portafolio según la fecha que se indique.\n",
    "    \n",
    "La segunda de las tablas proviene de la función *f_estadisticas_mad* misma que contiene los siguientes datos.\n",
    "\n",
    "    1. \"Sharpe\": Mide el rendimiento promedio excedente sobre la tasa libre de riesgo por unidad de riesgo incurrido. Es decir, es un indicativo del rendimiento esperado del trader por encima de la tasa libre de riesgo descontando el riesgo en el que incurre.  Mientras sea mas alto el valor del ratio, significa que el numerador fue muy grande o que el denominador fue muy pequeño. Esto, en terminos financieros, podría interpretarse que un Sharpe es alto cuando se tiene un rendimiento excedente despues de la tasa libre de riesgo alto, y/o, que la volatilidad de los rendimientos de la estrategia de trading fue baja.\n",
    "    \n",
    "    2. \"Drawdown / Drawup\": La minusvalía/plusvalía máxima que se presentó en la evolución del capital. Esta medida puede ser calculada, tanto para información temporalmente medida en los mismos intervalos o equidistante (ej. rendimientos diarios) y también para información obtenida en intervalos distintos o no equidistante (ej: rendimiento por operación). Esto es posible ya que lo que se busca obtener de información es la fecha inicial, la fecha final y la magnitud del periodo donde la acumulación de pérdida/ganancia de capital resultó ser la mayor dentro del periodo de tiempo analizado.\n",
    "    \n",
    "Estas dos tablas nos ayudarán a presentar algunos índices financieros que nos marquen la pauta de que tan mala o que tan buena fue la operación que se realizó, así como el visualizar el rendimiento que tuvo el portafolio creado por el usuario."
   ]
  },
  {
   "cell_type": "code",
   "execution_count": 3,
   "metadata": {},
   "outputs": [],
   "source": [
    "# DELETE THIS CELL IN YOUR FILE\n",
    "\n",
    "# A particular process that is relevant for the work you are presenting."
   ]
  },
  {
   "cell_type": "markdown",
   "metadata": {},
   "source": [
    "<br>"
   ]
  },
  {
   "cell_type": "markdown",
   "metadata": {},
   "source": [
    "# <font color= 'navy'> 5. Behavioral Finance  </font>"
   ]
  },
  {
   "cell_type": "markdown",
   "metadata": {},
   "source": [
    "<hr style=\"border:0.02in solid gray\"> </hr>"
   ]
  },
  {
   "cell_type": "code",
   "execution_count": 4,
   "metadata": {},
   "outputs": [],
   "source": [
    "# DELETE THIS CELL IN YOUR FILE\n",
    "\n",
    "# Another particular process that is relevant for the work. Normally, you include between 2 and 5 at the most."
   ]
  },
  {
   "cell_type": "markdown",
   "metadata": {},
   "source": [
    "<br>"
   ]
  },
  {
   "cell_type": "markdown",
   "metadata": {},
   "source": [
    "# <font color= 'navy'> 6. Visualizaciones  </font>"
   ]
  },
  {
   "cell_type": "markdown",
   "metadata": {},
   "source": [
    "<hr style=\"border:0.02in solid gray\"> </hr>"
   ]
  },
  {
   "cell_type": "markdown",
   "metadata": {},
   "source": [
    "## <font color= 'darkslateblue'> 6.1 Gráfica 1: Ranking </font>"
   ]
  },
  {
   "cell_type": "code",
   "execution_count": 5,
   "metadata": {},
   "outputs": [],
   "source": [
    "# DELETE THIS CELL IN YOUR FILE\n",
    "\n",
    "# In here you present the general results, and also, a discussion of such results."
   ]
  },
  {
   "cell_type": "markdown",
   "metadata": {},
   "source": [
    "<br>"
   ]
  },
  {
   "cell_type": "markdown",
   "metadata": {},
   "source": [
    "## <font color= 'darkslateblue'> 6.2 Gráfica 2: DrawDown y DrawUp </font>"
   ]
  },
  {
   "cell_type": "code",
   "execution_count": 6,
   "metadata": {},
   "outputs": [],
   "source": [
    "# DELETE THIS CELL IN YOUR FILE\n",
    "\n",
    "# Separate your results according to the main processes you are working on"
   ]
  },
  {
   "cell_type": "markdown",
   "metadata": {},
   "source": [
    "<br>"
   ]
  },
  {
   "cell_type": "markdown",
   "metadata": {},
   "source": [
    "## <font color= 'darkslateblue'> 6.3 Gráfica 3: Disposition Effect </font>"
   ]
  },
  {
   "cell_type": "code",
   "execution_count": 7,
   "metadata": {},
   "outputs": [],
   "source": [
    "# DELETE THIS CELL IN YOUR FILE\n",
    "\n",
    "# You can have several processes with which you are obtaining the results you need."
   ]
  },
  {
   "cell_type": "markdown",
   "metadata": {},
   "source": [
    "<br>"
   ]
  },
  {
   "cell_type": "markdown",
   "metadata": {},
   "source": [
    "# <font color= 'navy'> <font size = 6> 6. References </font>"
   ]
  },
  {
   "cell_type": "markdown",
   "metadata": {},
   "source": [
    "<hr style=\"border:0.02in solid gray\"> </hr>"
   ]
  },
  {
   "cell_type": "markdown",
   "metadata": {},
   "source": [
    "[1] Wikipedia \"Metatrader 4\" recuperado de https://en.wikipedia.org/wiki/MetaTrader_4 el día 18 de octubre de 2021."
   ]
  },
  {
   "cell_type": "markdown",
   "metadata": {},
   "source": [
    "<br>"
   ]
  }
 ],
 "metadata": {
  "kernelspec": {
   "display_name": "Python 3 (ipykernel)",
   "language": "python",
   "name": "python3"
  },
  "language_info": {
   "codemirror_mode": {
    "name": "ipython",
    "version": 3
   },
   "file_extension": ".py",
   "mimetype": "text/x-python",
   "name": "python",
   "nbconvert_exporter": "python",
   "pygments_lexer": "ipython3",
   "version": "3.9.2"
  }
 },
 "nbformat": 4,
 "nbformat_minor": 4
}
